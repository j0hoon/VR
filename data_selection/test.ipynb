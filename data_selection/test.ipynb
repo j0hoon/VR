{
 "cells": [
  {
   "cell_type": "code",
   "execution_count": 4,
   "metadata": {},
   "outputs": [
    {
     "ename": "error",
     "evalue": "bad escape \\S at position 16",
     "output_type": "error",
     "traceback": [
      "\u001b[1;31m---------------------------------------------------------------------------\u001b[0m",
      "\u001b[1;31merror\u001b[0m                                     Traceback (most recent call last)",
      "\u001b[1;32me:\\1_CODE\\3_YH_RESEARCH\\1_VR\\2_UTILS\\VR\\data_selection\\test.ipynb Cell 1\u001b[0m line \u001b[0;36m1\n\u001b[0;32m      <a href='vscode-notebook-cell:/e%3A/1_CODE/3_YH_RESEARCH/1_VR/2_UTILS/VR/data_selection/test.ipynb#W0sZmlsZQ%3D%3D?line=6'>7</a>\u001b[0m replacement \u001b[39m=\u001b[39m \u001b[39mr\u001b[39m\u001b[39m'\u001b[39m\u001b[39m\\\\\u001b[39;00m\u001b[39m192.168.75.251\u001b[39m\u001b[39m\\\u001b[39m\u001b[39mShares\u001b[39m\u001b[39m'\u001b[39m\n\u001b[0;32m      <a href='vscode-notebook-cell:/e%3A/1_CODE/3_YH_RESEARCH/1_VR/2_UTILS/VR/data_selection/test.ipynb#W0sZmlsZQ%3D%3D?line=8'>9</a>\u001b[0m \u001b[39m# 정규 표현식을 사용하여 대체\u001b[39;00m\n\u001b[1;32m---> <a href='vscode-notebook-cell:/e%3A/1_CODE/3_YH_RESEARCH/1_VR/2_UTILS/VR/data_selection/test.ipynb#W0sZmlsZQ%3D%3D?line=9'>10</a>\u001b[0m new_path \u001b[39m=\u001b[39m re\u001b[39m.\u001b[39;49msub(\u001b[39mr\u001b[39;49m\u001b[39m'\u001b[39;49m\u001b[39m\\\\\u001b[39;49;00m\u001b[39m\\\\\u001b[39;49;00m\u001b[39m[^\u001b[39;49m\u001b[39m\\\\\u001b[39;49;00m\u001b[39m\\\\\u001b[39;49;00m\u001b[39m]+\u001b[39;49m\u001b[39m\\\\\u001b[39;49;00m\u001b[39m\\\\\u001b[39;49;00m\u001b[39mFOT\u001b[39;49m\u001b[39m'\u001b[39;49m, replacement, original_path)\n\u001b[0;32m     <a href='vscode-notebook-cell:/e%3A/1_CODE/3_YH_RESEARCH/1_VR/2_UTILS/VR/data_selection/test.ipynb#W0sZmlsZQ%3D%3D?line=11'>12</a>\u001b[0m \u001b[39mprint\u001b[39m(new_path)\n",
      "File \u001b[1;32mC:\\Program Files\\WindowsApps\\PythonSoftwareFoundation.Python.3.11_3.11.1776.0_x64__qbz5n2kfra8p0\\Lib\\re\\__init__.py:185\u001b[0m, in \u001b[0;36msub\u001b[1;34m(pattern, repl, string, count, flags)\u001b[0m\n\u001b[0;32m    178\u001b[0m \u001b[39mdef\u001b[39;00m \u001b[39msub\u001b[39m(pattern, repl, string, count\u001b[39m=\u001b[39m\u001b[39m0\u001b[39m, flags\u001b[39m=\u001b[39m\u001b[39m0\u001b[39m):\n\u001b[0;32m    179\u001b[0m \u001b[39m    \u001b[39m\u001b[39m\"\"\"Return the string obtained by replacing the leftmost\u001b[39;00m\n\u001b[0;32m    180\u001b[0m \u001b[39m    non-overlapping occurrences of the pattern in string by the\u001b[39;00m\n\u001b[0;32m    181\u001b[0m \u001b[39m    replacement repl.  repl can be either a string or a callable;\u001b[39;00m\n\u001b[0;32m    182\u001b[0m \u001b[39m    if a string, backslash escapes in it are processed.  If it is\u001b[39;00m\n\u001b[0;32m    183\u001b[0m \u001b[39m    a callable, it's passed the Match object and must return\u001b[39;00m\n\u001b[0;32m    184\u001b[0m \u001b[39m    a replacement string to be used.\"\"\"\u001b[39;00m\n\u001b[1;32m--> 185\u001b[0m     \u001b[39mreturn\u001b[39;00m _compile(pattern, flags)\u001b[39m.\u001b[39;49msub(repl, string, count)\n",
      "File \u001b[1;32mC:\\Program Files\\WindowsApps\\PythonSoftwareFoundation.Python.3.11_3.11.1776.0_x64__qbz5n2kfra8p0\\Lib\\re\\__init__.py:317\u001b[0m, in \u001b[0;36m_subx\u001b[1;34m(pattern, template)\u001b[0m\n\u001b[0;32m    315\u001b[0m \u001b[39mdef\u001b[39;00m \u001b[39m_subx\u001b[39m(pattern, template):\n\u001b[0;32m    316\u001b[0m     \u001b[39m# internal: Pattern.sub/subn implementation helper\u001b[39;00m\n\u001b[1;32m--> 317\u001b[0m     template \u001b[39m=\u001b[39m _compile_repl(template, pattern)\n\u001b[0;32m    318\u001b[0m     \u001b[39mif\u001b[39;00m \u001b[39mnot\u001b[39;00m template[\u001b[39m0\u001b[39m] \u001b[39mand\u001b[39;00m \u001b[39mlen\u001b[39m(template[\u001b[39m1\u001b[39m]) \u001b[39m==\u001b[39m \u001b[39m1\u001b[39m:\n\u001b[0;32m    319\u001b[0m         \u001b[39m# literal replacement\u001b[39;00m\n\u001b[0;32m    320\u001b[0m         \u001b[39mreturn\u001b[39;00m template[\u001b[39m1\u001b[39m][\u001b[39m0\u001b[39m]\n",
      "File \u001b[1;32mC:\\Program Files\\WindowsApps\\PythonSoftwareFoundation.Python.3.11_3.11.1776.0_x64__qbz5n2kfra8p0\\Lib\\re\\__init__.py:308\u001b[0m, in \u001b[0;36m_compile_repl\u001b[1;34m(repl, pattern)\u001b[0m\n\u001b[0;32m    305\u001b[0m \u001b[39m@functools\u001b[39m\u001b[39m.\u001b[39mlru_cache(_MAXCACHE)\n\u001b[0;32m    306\u001b[0m \u001b[39mdef\u001b[39;00m \u001b[39m_compile_repl\u001b[39m(repl, pattern):\n\u001b[0;32m    307\u001b[0m     \u001b[39m# internal: compile replacement pattern\u001b[39;00m\n\u001b[1;32m--> 308\u001b[0m     \u001b[39mreturn\u001b[39;00m _parser\u001b[39m.\u001b[39;49mparse_template(repl, pattern)\n",
      "File \u001b[1;32mC:\\Program Files\\WindowsApps\\PythonSoftwareFoundation.Python.3.11_3.11.1776.0_x64__qbz5n2kfra8p0\\Lib\\re\\_parser.py:1080\u001b[0m, in \u001b[0;36mparse_template\u001b[1;34m(source, state)\u001b[0m\n\u001b[0;32m   1078\u001b[0m         \u001b[39mexcept\u001b[39;00m \u001b[39mKeyError\u001b[39;00m:\n\u001b[0;32m   1079\u001b[0m             \u001b[39mif\u001b[39;00m c \u001b[39min\u001b[39;00m ASCIILETTERS:\n\u001b[1;32m-> 1080\u001b[0m                 \u001b[39mraise\u001b[39;00m s\u001b[39m.\u001b[39merror(\u001b[39m'\u001b[39m\u001b[39mbad escape \u001b[39m\u001b[39m%s\u001b[39;00m\u001b[39m'\u001b[39m \u001b[39m%\u001b[39m this, \u001b[39mlen\u001b[39m(this)) \u001b[39mfrom\u001b[39;00m \u001b[39mNone\u001b[39m\n\u001b[0;32m   1081\u001b[0m         lappend(this)\n\u001b[0;32m   1082\u001b[0m \u001b[39melse\u001b[39;00m:\n",
      "\u001b[1;31merror\u001b[0m: bad escape \\S at position 16"
     ]
    }
   ],
   "source": [
    "import re\n",
    "\n",
    "# 원래의 디렉토리 경로\n",
    "original_path = r'D:\\Shares\\Shares\\FOT_Genesis Data_1\\mat\\RG3_030323\\Perception\\Recognition\\Recognition_RG3_030323_001.csv'\n",
    "\n",
    "# 원하는 대체 문자열\n",
    "replacement = r'\\\\192.168.75.251\\Shares'\n",
    "\n",
    "# 정규 표현식을 사용하여 대체\n",
    "new_path = re.sub(r'\\\\\\\\[^\\\\\\\\]+\\\\\\\\FOT', replacement, original_path)\n",
    "\n",
    "print(new_path)\n"
   ]
  }
 ],
 "metadata": {
  "kernelspec": {
   "display_name": "Python 3",
   "language": "python",
   "name": "python3"
  },
  "language_info": {
   "codemirror_mode": {
    "name": "ipython",
    "version": 3
   },
   "file_extension": ".py",
   "mimetype": "text/x-python",
   "name": "python",
   "nbconvert_exporter": "python",
   "pygments_lexer": "ipython3",
   "version": "3.11.6"
  }
 },
 "nbformat": 4,
 "nbformat_minor": 2
}
